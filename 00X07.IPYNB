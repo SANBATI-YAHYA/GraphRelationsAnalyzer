{
 "cells": [
  {
   "cell_type": "markdown",
   "metadata": {},
   "source": [
    "## DASH VERSION 2 COMPLIQUER"
   ]
  },
  {
   "cell_type": "code",
   "execution_count": null,
   "metadata": {},
   "outputs": [
    {
     "data": {
      "text/html": [
       "\n",
       "        <iframe\n",
       "            width=\"100%\"\n",
       "            height=\"650\"\n",
       "            src=\"http://127.0.0.1:8060/\"\n",
       "            frameborder=\"0\"\n",
       "            allowfullscreen\n",
       "            \n",
       "        ></iframe>\n",
       "        "
      ],
      "text/plain": [
       "<IPython.lib.display.IFrame at 0x249b13f8b00>"
      ]
     },
     "metadata": {},
     "output_type": "display_data"
    }
   ],
   "source": [
    "from dash import Dash, html, dcc, callback, Output, Input, dash_table\n",
    "import pandas as pd\n",
    "import plotly.express as px\n",
    "\n",
    "# Charger les données\n",
    "df = pd.read_csv(r\"C:\\Users\\dell\\OneDrive\\Desktop\\cmc\\2eme\\visuilisation yassin\\New folder\\gapminder_unfiltered.csv\")\n",
    "\n",
    "# Liste unique des pays (pour le dropdown)\n",
    "unique_countries = df['country'].drop_duplicates().reset_index(drop=True)\n",
    "\n",
    "\n",
    "app = Dash()\n",
    "\n",
    "app.layout = html.Div([\n",
    "    html.H1(children='Filtre Table et Graph', style={\n",
    "        'color': 'black',\n",
    "        'textAlign': 'center',\n",
    "        'background-color': 'lightgray',\n",
    "        'padding': '10px',\n",
    "        'border-radius': '10px'\n",
    "    }),\n",
    "\n",
    "    # Dropdown pour sélectionner un pays\n",
    "    dcc.Dropdown(\n",
    "        options=[{'label': country, 'value': country} for country in unique_countries],\n",
    "        value='Canada',\n",
    "        id='dropdown_id',\n",
    "        style={'width': '50%', 'margin': '20px auto'}\n",
    "    ),\n",
    "\n",
    "    # Graph dynamique pour afficher l'espérance de vie par pays\n",
    "    dcc.Graph(figure={}, id='graph_id', style={'margin-bottom': '30px'}),\n",
    "\n",
    "    # Table affichant les données, 10 lignes par page\n",
    "    dash_table.DataTable(\n",
    "        id='table_id',\n",
    "        columns=[{'name': col, 'id': col} for col in df.columns],  \n",
    "        data=df.head(10).to_dict('records'),  \n",
    "        style_table={'margin': '0 auto', 'width': '80%'},\n",
    "        style_cell={'textAlign': 'center'},\n",
    "        page_size=10,  \n",
    "    ),\n",
    "\n",
    "    # Boutons pour naviguer entre les pages de la table\n",
    "    html.Div([\n",
    "        html.Button('Précédent', id='prev_button', n_clicks=0, style={'margin-right': '10px'}),\n",
    "        html.Button('Suivant', id='next_button', n_clicks=0),\n",
    "    ], style={'textAlign': 'center', 'margin-bottom': '20px'}),\n",
    "\n",
    "])\n",
    "\n",
    "# Callback pour mettre à jour le graphique en fonction du pays sélectionné\n",
    "@callback(\n",
    "    Output(component_id='graph_id', component_property='figure'),\n",
    "    Input(component_id='dropdown_id', component_property='value')\n",
    ")\n",
    "def update_graph(selected_country):\n",
    "    # Filtrer les données en fonction du pays sélectionné\n",
    "    filtered_data = df[df['country'] == selected_country]\n",
    "    # Créer un graphique de type ligne pour l'espérance de vie\n",
    "    fig = px.line(filtered_data, x='year', y='lifeExp', title=f'Évolution de l’espérance de vie pour {selected_country}')\n",
    "    return fig\n",
    "\n",
    "# Callback pour gérer la pagination de la table\n",
    "@callback(\n",
    "    Output(component_id='table_id', component_property='data'),\n",
    "    Input('prev_button', 'n_clicks'),\n",
    "    Input('next_button', 'n_clicks')\n",
    ")\n",
    "def update_table(prev_clicks, next_clicks):\n",
    "    group_size = 10  \n",
    "    current_page = max(0, next_clicks - prev_clicks)  \n",
    "    start_idx = current_page * group_size  \n",
    "    end_idx = start_idx + group_size  \n",
    "\n",
    "    # Filtrer les données et retourner les lignes correspondantes à la page actuelle\n",
    "    table_data = df.iloc[start_idx:end_idx]\n",
    "    return table_data.to_dict('records')\n",
    "\n",
    "# Lancer l'application\n",
    "if __name__ == \"__main__\":\n",
    "    app.run_server(debug=True, port=8060)\n"
   ]
  },
  {
   "cell_type": "code",
   "execution_count": null,
   "metadata": {},
   "outputs": [],
   "source": []
  }
 ],
 "metadata": {
  "kernelspec": {
   "display_name": "Python 3",
   "language": "python",
   "name": "python3"
  },
  "language_info": {
   "codemirror_mode": {
    "name": "ipython",
    "version": 3
   },
   "file_extension": ".py",
   "mimetype": "text/x-python",
   "name": "python",
   "nbconvert_exporter": "python",
   "pygments_lexer": "ipython3",
   "version": "3.12.0"
  }
 },
 "nbformat": 4,
 "nbformat_minor": 2
}
