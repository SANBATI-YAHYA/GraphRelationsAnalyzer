{
 "cells": [
  {
   "cell_type": "markdown",
   "metadata": {},
   "source": [
    "#### DASH \n"
   ]
  },
  {
   "cell_type": "code",
   "execution_count": 88,
   "metadata": {},
   "outputs": [
    {
     "data": {
      "text/html": [
       "\n",
       "        <iframe\n",
       "            width=\"100%\"\n",
       "            height=\"650\"\n",
       "            src=\"http://127.0.0.1:8050/\"\n",
       "            frameborder=\"0\"\n",
       "            allowfullscreen\n",
       "            \n",
       "        ></iframe>\n",
       "        "
      ],
      "text/plain": [
       "<IPython.lib.display.IFrame at 0x1c688c46450>"
      ]
     },
     "metadata": {},
     "output_type": "display_data"
    }
   ],
   "source": [
    "from dash import Dash, html, dcc\n",
    "\n",
    "app = Dash()\n",
    "\n",
    "countries = ['maroc', 'mali', 'cameron', 'mali']\n",
    "\n",
    "app.layout = html.Div(\n",
    "    children=[\n",
    "        html.H1(\n",
    "            children='hello world',\n",
    "            style={\n",
    "                'color': 'GREEN',\n",
    "                'textAlign': 'center',\n",
    "                'background-color': 'yellow',\n",
    "                'width': '200px',\n",
    "                'margin': '0 auto',\n",
    "                'border': '2px solid black',\n",
    "                'border-radius': '10px',\n",
    "            },\n",
    "        ),\n",
    "        dcc.Dropdown(\n",
    "            countries,\n",
    "            value='maroc',\n",
    "            id='dropdown_id',\n",
    "            style={\n",
    "                'width': '200px',\n",
    "                'margin': '20px auto',\n",
    "            },\n",
    "        ),\n",
    "    ]\n",
    ")\n",
    "\n",
    "if __name__ == \"__main__\":\n",
    "    app.run_server(debug=True)\n",
    "\n",
    "                                                           \n",
    "      "
   ]
  },
  {
   "cell_type": "code",
   "execution_count": null,
   "metadata": {},
   "outputs": [],
   "source": []
  }
 ],
 "metadata": {
  "kernelspec": {
   "display_name": "Python 3",
   "language": "python",
   "name": "python3"
  },
  "language_info": {
   "codemirror_mode": {
    "name": "ipython",
    "version": 3
   },
   "file_extension": ".py",
   "mimetype": "text/x-python",
   "name": "python",
   "nbconvert_exporter": "python",
   "pygments_lexer": "ipython3",
   "version": "3.12.0"
  }
 },
 "nbformat": 4,
 "nbformat_minor": 2
}
